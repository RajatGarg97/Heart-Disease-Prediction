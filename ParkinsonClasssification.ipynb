{
  "nbformat": 4,
  "nbformat_minor": 0,
  "metadata": {
    "colab": {
      "name": "ParkinsonClasssification",
      "version": "0.3.2",
      "provenance": []
    },
    "kernelspec": {
      "name": "python3",
      "display_name": "Python 3"
    }
  },
  "cells": [
    {
      "metadata": {
        "id": "yM0ur9TO_udy",
        "colab_type": "code",
        "colab": {
          "base_uri": "https://localhost:8080/",
          "height": 122
        },
        "outputId": "0696cddd-3089-4cb9-ddf0-c15a5341d1ff"
      },
      "cell_type": "code",
      "source": [
        "# Importing necessary Libraries\n",
        "\n",
        "import pandas as pd\n",
        "import numpy as np\n",
        "from google.colab import drive\n",
        "drive.mount('/content/gdrive')"
      ],
      "execution_count": 1,
      "outputs": [
        {
          "output_type": "stream",
          "text": [
            "Go to this URL in a browser: https://accounts.google.com/o/oauth2/auth?client_id=947318989803-6bn6qk8qdgf4n4g3pfee6491hc0brc4i.apps.googleusercontent.com&redirect_uri=urn%3Aietf%3Awg%3Aoauth%3A2.0%3Aoob&scope=email%20https%3A%2F%2Fwww.googleapis.com%2Fauth%2Fdocs.test%20https%3A%2F%2Fwww.googleapis.com%2Fauth%2Fdrive%20https%3A%2F%2Fwww.googleapis.com%2Fauth%2Fdrive.photos.readonly%20https%3A%2F%2Fwww.googleapis.com%2Fauth%2Fpeopleapi.readonly&response_type=code\n",
            "\n",
            "Enter your authorization code:\n",
            "··········\n",
            "Mounted at /content/gdrive\n"
          ],
          "name": "stdout"
        }
      ]
    },
    {
      "metadata": {
        "id": "mRFf_AZ2ArtP",
        "colab_type": "code",
        "colab": {}
      },
      "cell_type": "code",
      "source": [
        "# Importing Dataset\n",
        "\n",
        "datafile = 'gdrive/My Drive/ResearchPaper/parkinson/pd_speech_features.csv'\n",
        "df = pd.read_csv(datafile, header=1)"
      ],
      "execution_count": 0,
      "outputs": []
    },
    {
      "metadata": {
        "id": "awmszdh_BnHA",
        "colab_type": "code",
        "colab": {
          "base_uri": "https://localhost:8080/",
          "height": 253
        },
        "outputId": "30a45df5-f892-4fc4-af71-5b71ac2a2385"
      },
      "cell_type": "code",
      "source": [
        "df.head()"
      ],
      "execution_count": 3,
      "outputs": [
        {
          "output_type": "execute_result",
          "data": {
            "text/html": [
              "<div>\n",
              "<style scoped>\n",
              "    .dataframe tbody tr th:only-of-type {\n",
              "        vertical-align: middle;\n",
              "    }\n",
              "\n",
              "    .dataframe tbody tr th {\n",
              "        vertical-align: top;\n",
              "    }\n",
              "\n",
              "    .dataframe thead th {\n",
              "        text-align: right;\n",
              "    }\n",
              "</style>\n",
              "<table border=\"1\" class=\"dataframe\">\n",
              "  <thead>\n",
              "    <tr style=\"text-align: right;\">\n",
              "      <th></th>\n",
              "      <th>id</th>\n",
              "      <th>gender</th>\n",
              "      <th>PPE</th>\n",
              "      <th>DFA</th>\n",
              "      <th>RPDE</th>\n",
              "      <th>numPulses</th>\n",
              "      <th>numPeriodsPulses</th>\n",
              "      <th>meanPeriodPulses</th>\n",
              "      <th>stdDevPeriodPulses</th>\n",
              "      <th>locPctJitter</th>\n",
              "      <th>...</th>\n",
              "      <th>tqwt_kurtosisValue_dec_28</th>\n",
              "      <th>tqwt_kurtosisValue_dec_29</th>\n",
              "      <th>tqwt_kurtosisValue_dec_30</th>\n",
              "      <th>tqwt_kurtosisValue_dec_31</th>\n",
              "      <th>tqwt_kurtosisValue_dec_32</th>\n",
              "      <th>tqwt_kurtosisValue_dec_33</th>\n",
              "      <th>tqwt_kurtosisValue_dec_34</th>\n",
              "      <th>tqwt_kurtosisValue_dec_35</th>\n",
              "      <th>tqwt_kurtosisValue_dec_36</th>\n",
              "      <th>class</th>\n",
              "    </tr>\n",
              "  </thead>\n",
              "  <tbody>\n",
              "    <tr>\n",
              "      <th>0</th>\n",
              "      <td>0</td>\n",
              "      <td>1</td>\n",
              "      <td>0.85247</td>\n",
              "      <td>0.71826</td>\n",
              "      <td>0.57227</td>\n",
              "      <td>240</td>\n",
              "      <td>239</td>\n",
              "      <td>0.008064</td>\n",
              "      <td>0.000087</td>\n",
              "      <td>0.00218</td>\n",
              "      <td>...</td>\n",
              "      <td>1.5620</td>\n",
              "      <td>2.6445</td>\n",
              "      <td>3.8686</td>\n",
              "      <td>4.2105</td>\n",
              "      <td>5.1221</td>\n",
              "      <td>4.4625</td>\n",
              "      <td>2.6202</td>\n",
              "      <td>3.0004</td>\n",
              "      <td>18.9405</td>\n",
              "      <td>1</td>\n",
              "    </tr>\n",
              "    <tr>\n",
              "      <th>1</th>\n",
              "      <td>0</td>\n",
              "      <td>1</td>\n",
              "      <td>0.76686</td>\n",
              "      <td>0.69481</td>\n",
              "      <td>0.53966</td>\n",
              "      <td>234</td>\n",
              "      <td>233</td>\n",
              "      <td>0.008258</td>\n",
              "      <td>0.000073</td>\n",
              "      <td>0.00195</td>\n",
              "      <td>...</td>\n",
              "      <td>1.5589</td>\n",
              "      <td>3.6107</td>\n",
              "      <td>23.5155</td>\n",
              "      <td>14.1962</td>\n",
              "      <td>11.0261</td>\n",
              "      <td>9.5082</td>\n",
              "      <td>6.5245</td>\n",
              "      <td>6.3431</td>\n",
              "      <td>45.1780</td>\n",
              "      <td>1</td>\n",
              "    </tr>\n",
              "    <tr>\n",
              "      <th>2</th>\n",
              "      <td>0</td>\n",
              "      <td>1</td>\n",
              "      <td>0.85083</td>\n",
              "      <td>0.67604</td>\n",
              "      <td>0.58982</td>\n",
              "      <td>232</td>\n",
              "      <td>231</td>\n",
              "      <td>0.008340</td>\n",
              "      <td>0.000060</td>\n",
              "      <td>0.00176</td>\n",
              "      <td>...</td>\n",
              "      <td>1.5643</td>\n",
              "      <td>2.3308</td>\n",
              "      <td>9.4959</td>\n",
              "      <td>10.7458</td>\n",
              "      <td>11.0177</td>\n",
              "      <td>4.8066</td>\n",
              "      <td>2.9199</td>\n",
              "      <td>3.1495</td>\n",
              "      <td>4.7666</td>\n",
              "      <td>1</td>\n",
              "    </tr>\n",
              "    <tr>\n",
              "      <th>3</th>\n",
              "      <td>1</td>\n",
              "      <td>0</td>\n",
              "      <td>0.41121</td>\n",
              "      <td>0.79672</td>\n",
              "      <td>0.59257</td>\n",
              "      <td>178</td>\n",
              "      <td>177</td>\n",
              "      <td>0.010858</td>\n",
              "      <td>0.000183</td>\n",
              "      <td>0.00419</td>\n",
              "      <td>...</td>\n",
              "      <td>3.7805</td>\n",
              "      <td>3.5664</td>\n",
              "      <td>5.2558</td>\n",
              "      <td>14.0403</td>\n",
              "      <td>4.2235</td>\n",
              "      <td>4.6857</td>\n",
              "      <td>4.8460</td>\n",
              "      <td>6.2650</td>\n",
              "      <td>4.0603</td>\n",
              "      <td>1</td>\n",
              "    </tr>\n",
              "    <tr>\n",
              "      <th>4</th>\n",
              "      <td>1</td>\n",
              "      <td>0</td>\n",
              "      <td>0.32790</td>\n",
              "      <td>0.79782</td>\n",
              "      <td>0.53028</td>\n",
              "      <td>236</td>\n",
              "      <td>235</td>\n",
              "      <td>0.008162</td>\n",
              "      <td>0.002669</td>\n",
              "      <td>0.00535</td>\n",
              "      <td>...</td>\n",
              "      <td>6.1727</td>\n",
              "      <td>5.8416</td>\n",
              "      <td>6.0805</td>\n",
              "      <td>5.7621</td>\n",
              "      <td>7.7817</td>\n",
              "      <td>11.6891</td>\n",
              "      <td>8.2103</td>\n",
              "      <td>5.0559</td>\n",
              "      <td>6.1164</td>\n",
              "      <td>1</td>\n",
              "    </tr>\n",
              "  </tbody>\n",
              "</table>\n",
              "<p>5 rows × 755 columns</p>\n",
              "</div>"
            ],
            "text/plain": [
              "   id  gender      PPE      DFA     RPDE  numPulses  numPeriodsPulses  \\\n",
              "0   0       1  0.85247  0.71826  0.57227        240               239   \n",
              "1   0       1  0.76686  0.69481  0.53966        234               233   \n",
              "2   0       1  0.85083  0.67604  0.58982        232               231   \n",
              "3   1       0  0.41121  0.79672  0.59257        178               177   \n",
              "4   1       0  0.32790  0.79782  0.53028        236               235   \n",
              "\n",
              "   meanPeriodPulses  stdDevPeriodPulses  locPctJitter  ...    \\\n",
              "0          0.008064            0.000087       0.00218  ...     \n",
              "1          0.008258            0.000073       0.00195  ...     \n",
              "2          0.008340            0.000060       0.00176  ...     \n",
              "3          0.010858            0.000183       0.00419  ...     \n",
              "4          0.008162            0.002669       0.00535  ...     \n",
              "\n",
              "   tqwt_kurtosisValue_dec_28  tqwt_kurtosisValue_dec_29  \\\n",
              "0                     1.5620                     2.6445   \n",
              "1                     1.5589                     3.6107   \n",
              "2                     1.5643                     2.3308   \n",
              "3                     3.7805                     3.5664   \n",
              "4                     6.1727                     5.8416   \n",
              "\n",
              "   tqwt_kurtosisValue_dec_30  tqwt_kurtosisValue_dec_31  \\\n",
              "0                     3.8686                     4.2105   \n",
              "1                    23.5155                    14.1962   \n",
              "2                     9.4959                    10.7458   \n",
              "3                     5.2558                    14.0403   \n",
              "4                     6.0805                     5.7621   \n",
              "\n",
              "   tqwt_kurtosisValue_dec_32  tqwt_kurtosisValue_dec_33  \\\n",
              "0                     5.1221                     4.4625   \n",
              "1                    11.0261                     9.5082   \n",
              "2                    11.0177                     4.8066   \n",
              "3                     4.2235                     4.6857   \n",
              "4                     7.7817                    11.6891   \n",
              "\n",
              "   tqwt_kurtosisValue_dec_34  tqwt_kurtosisValue_dec_35  \\\n",
              "0                     2.6202                     3.0004   \n",
              "1                     6.5245                     6.3431   \n",
              "2                     2.9199                     3.1495   \n",
              "3                     4.8460                     6.2650   \n",
              "4                     8.2103                     5.0559   \n",
              "\n",
              "   tqwt_kurtosisValue_dec_36  class  \n",
              "0                    18.9405      1  \n",
              "1                    45.1780      1  \n",
              "2                     4.7666      1  \n",
              "3                     4.0603      1  \n",
              "4                     6.1164      1  \n",
              "\n",
              "[5 rows x 755 columns]"
            ]
          },
          "metadata": {
            "tags": []
          },
          "execution_count": 3
        }
      ]
    },
    {
      "metadata": {
        "id": "2pzZ4Pn4Bp7x",
        "colab_type": "code",
        "colab": {
          "base_uri": "https://localhost:8080/",
          "height": 204
        },
        "outputId": "14e1c856-871e-4a61-e71a-a96a42c9677d"
      },
      "cell_type": "code",
      "source": [
        "# Dataset Description\n",
        "\n",
        "print('Given Features: ', df.columns)\n",
        "print('---------------------------------------------------------')\n",
        "print('Dimensions: ', df.shape)"
      ],
      "execution_count": 11,
      "outputs": [
        {
          "output_type": "stream",
          "text": [
            "Given Features:  Index(['id', 'gender', 'PPE', 'DFA', 'RPDE', 'numPulses', 'numPeriodsPulses',\n",
            "       'meanPeriodPulses', 'stdDevPeriodPulses', 'locPctJitter',\n",
            "       ...\n",
            "       'tqwt_kurtosisValue_dec_28', 'tqwt_kurtosisValue_dec_29',\n",
            "       'tqwt_kurtosisValue_dec_30', 'tqwt_kurtosisValue_dec_31',\n",
            "       'tqwt_kurtosisValue_dec_32', 'tqwt_kurtosisValue_dec_33',\n",
            "       'tqwt_kurtosisValue_dec_34', 'tqwt_kurtosisValue_dec_35',\n",
            "       'tqwt_kurtosisValue_dec_36', 'class'],\n",
            "      dtype='object', length=755)\n",
            "---------------------------------------------------------\n",
            "Dimensions:  (756, 755)\n"
          ],
          "name": "stdout"
        }
      ]
    },
    {
      "metadata": {
        "id": "A5g1FKkdCb2o",
        "colab_type": "code",
        "colab": {
          "base_uri": "https://localhost:8080/",
          "height": 1224
        },
        "outputId": "d0f97a40-4c9a-4e51-fe75-c05af60e5a74"
      },
      "cell_type": "code",
      "source": [
        "print(df.describe())"
      ],
      "execution_count": 12,
      "outputs": [
        {
          "output_type": "stream",
          "text": [
            "               id      gender         PPE         DFA        RPDE   numPulses  \\\n",
            "count  756.000000  756.000000  756.000000  756.000000  756.000000  756.000000   \n",
            "mean   125.500000    0.515873    0.746284    0.700414    0.489058  323.972222   \n",
            "std     72.793721    0.500079    0.169294    0.069718    0.137442   99.219059   \n",
            "min      0.000000    0.000000    0.041551    0.543500    0.154300    2.000000   \n",
            "25%     62.750000    0.000000    0.762833    0.647053    0.386537  251.000000   \n",
            "50%    125.500000    1.000000    0.809655    0.700525    0.484355  317.000000   \n",
            "75%    188.250000    1.000000    0.834315    0.754985    0.586515  384.250000   \n",
            "max    251.000000    1.000000    0.907660    0.852640    0.871230  907.000000   \n",
            "\n",
            "       numPeriodsPulses  meanPeriodPulses  stdDevPeriodPulses  locPctJitter  \\\n",
            "count        756.000000        756.000000          756.000000    756.000000   \n",
            "mean         322.678571          0.006360            0.000383      0.002324   \n",
            "std           99.402499          0.001826            0.000728      0.002628   \n",
            "min            1.000000          0.002107            0.000011      0.000210   \n",
            "25%          250.000000          0.005003            0.000049      0.000970   \n",
            "50%          316.000000          0.006048            0.000077      0.001495   \n",
            "75%          383.250000          0.007528            0.000171      0.002520   \n",
            "max          905.000000          0.012966            0.003483      0.027750   \n",
            "\n",
            "          ...      tqwt_kurtosisValue_dec_28  tqwt_kurtosisValue_dec_29  \\\n",
            "count     ...                     756.000000                 756.000000   \n",
            "mean      ...                      26.237251                  22.840337   \n",
            "std       ...                      42.220693                  32.626464   \n",
            "min       ...                       1.509800                   1.531700   \n",
            "25%       ...                       2.408675                   3.452800   \n",
            "50%       ...                       5.586300                   7.062750   \n",
            "75%       ...                      28.958075                  29.830850   \n",
            "max       ...                     239.788800                 203.311300   \n",
            "\n",
            "       tqwt_kurtosisValue_dec_30  tqwt_kurtosisValue_dec_31  \\\n",
            "count                 756.000000                 756.000000   \n",
            "mean                   18.587888                  13.872018   \n",
            "std                    25.537464                  20.046029   \n",
            "min                     1.582900                   1.747200   \n",
            "25%                     3.354825                   3.077450   \n",
            "50%                     6.077400                   4.770850   \n",
            "75%                    21.944050                  13.188000   \n",
            "max                   121.542900                 102.207000   \n",
            "\n",
            "       tqwt_kurtosisValue_dec_32  tqwt_kurtosisValue_dec_33  \\\n",
            "count                 756.000000                 756.000000   \n",
            "mean                   12.218953                  12.375335   \n",
            "std                    17.783642                  16.341665   \n",
            "min                     1.789500                   1.628700   \n",
            "25%                     2.937025                   3.114375   \n",
            "50%                     4.300450                   4.741450   \n",
            "75%                    10.876150                  12.201325   \n",
            "max                    85.571700                  73.532200   \n",
            "\n",
            "       tqwt_kurtosisValue_dec_34  tqwt_kurtosisValue_dec_35  \\\n",
            "count                 756.000000                 756.000000   \n",
            "mean                   14.799230                  14.751559   \n",
            "std                    15.722502                  14.432979   \n",
            "min                     1.861700                   1.955900   \n",
            "25%                     3.665925                   3.741275   \n",
            "50%                     6.725700                   7.334250   \n",
            "75%                    21.922050                  22.495175   \n",
            "max                    62.007300                  57.544300   \n",
            "\n",
            "       tqwt_kurtosisValue_dec_36       class  \n",
            "count                 756.000000  756.000000  \n",
            "mean                   31.481110    0.746032  \n",
            "std                    34.230991    0.435568  \n",
            "min                     2.364000    0.000000  \n",
            "25%                     3.948750    0.000000  \n",
            "50%                    10.637250    1.000000  \n",
            "75%                    61.125325    1.000000  \n",
            "max                   156.423700    1.000000  \n",
            "\n",
            "[8 rows x 755 columns]\n"
          ],
          "name": "stdout"
        }
      ]
    },
    {
      "metadata": {
        "id": "l4tb4LnND2rM",
        "colab_type": "code",
        "colab": {}
      },
      "cell_type": "code",
      "source": [
        "# Separating features and results\n",
        "\n",
        "X = df.drop(['class'], axis=1)\n",
        "y = df['class']"
      ],
      "execution_count": 0,
      "outputs": []
    },
    {
      "metadata": {
        "id": "o4LVhyRrXCSS",
        "colab_type": "code",
        "colab": {
          "base_uri": "https://localhost:8080/",
          "height": 51
        },
        "outputId": "140d0a75-966c-4609-c6c0-a928372d6132"
      },
      "cell_type": "code",
      "source": [
        "print('Dimensions of X: ', X.shape)\n",
        "print('Dimensions of y: ', y.shape)"
      ],
      "execution_count": 14,
      "outputs": [
        {
          "output_type": "stream",
          "text": [
            "Dimensions of X:  (756, 754)\n",
            "Dimensions of y:  (756,)\n"
          ],
          "name": "stdout"
        }
      ]
    },
    {
      "metadata": {
        "id": "JhgyqVugXz8p",
        "colab_type": "code",
        "colab": {}
      },
      "cell_type": "code",
      "source": [
        "# Importing Classification models\n",
        "\n",
        "from sklearn.tree import DecisionTreeClassifier\n",
        "from sklearn.svm import SVC\n",
        "from sklearn.naive_bayes import GaussianNB\n",
        "from sklearn.ensemble.forest import RandomForestClassifier\n",
        "from sklearn.neighbors.classification import KNeighborsClassifier\n",
        "from sklearn.metrics import accuracy_score"
      ],
      "execution_count": 0,
      "outputs": []
    },
    {
      "metadata": {
        "id": "_XP-fbNnYiFz",
        "colab_type": "code",
        "colab": {}
      },
      "cell_type": "code",
      "source": [
        "# Function for Models\n",
        "\n",
        "def models(X_train, X_test, y_train, y_test, ovr, acc, *models):\n",
        "  \n",
        "\n",
        "  for model in models:\n",
        "    \n",
        "    i = 0\n",
        "    model.fit(X_train, y_train)\n",
        "    pred = model.predict(X_test)\n",
        "    testacc = accuracy_score(y_test, pred)\n",
        "    pred_train = model.predict(X_train)\n",
        "    trainacc = accuracy_score(y_train, pred_train)\n",
        "    \n",
        "    if min(ovr[i], abs(testacc - trainacc)) != ovr[i]:\n",
        "      \n",
        "      ovr[i] = abs(testacc - trainacc)\n",
        "      acc[i] = testacc\n",
        "      \n",
        "    \n",
        "    i += 1 \n",
        "    \n",
        "  return acc"
      ],
      "execution_count": 0,
      "outputs": []
    },
    {
      "metadata": {
        "id": "RBjprvZeeIii",
        "colab_type": "code",
        "colab": {}
      },
      "cell_type": "code",
      "source": [
        "from sklearn.model_selection import KFold"
      ],
      "execution_count": 0,
      "outputs": []
    },
    {
      "metadata": {
        "id": "vAnI6XIgeOP1",
        "colab_type": "code",
        "colab": {
          "base_uri": "https://localhost:8080/",
          "height": 34
        },
        "outputId": "e3e2084b-aaa5-411a-a610-5230a8c17e56"
      },
      "cell_type": "code",
      "source": [
        "kf = KFold(n_splits=10, random_state=101, shuffle=True)\n",
        "kf.get_n_splits(X)\n",
        "print(kf)"
      ],
      "execution_count": 17,
      "outputs": [
        {
          "output_type": "stream",
          "text": [
            "KFold(n_splits=10, random_state=101, shuffle=True)\n"
          ],
          "name": "stdout"
        }
      ]
    },
    {
      "metadata": {
        "id": "Sb6wd5fAeTqN",
        "colab_type": "code",
        "colab": {}
      },
      "cell_type": "code",
      "source": [
        "  dtc = DecisionTreeClassifier(random_state=101)\n",
        "  \n",
        "  svc = SVC(gamma='auto', random_state=101)\n",
        "  \n",
        "  gnb = GaussianNB()\n",
        "  \n",
        "  rfc = RandomForestClassifier(n_estimators=10, n_jobs=-1, random_state=101, max_depth=2)\n",
        "  \n",
        "  knc = KNeighborsClassifier(n_neighbors=7, n_jobs=-1, algorithm='auto')"
      ],
      "execution_count": 0,
      "outputs": []
    },
    {
      "metadata": {
        "id": "3q_I_yTFi8JR",
        "colab_type": "code",
        "colab": {
          "base_uri": "https://localhost:8080/",
          "height": 34
        },
        "outputId": "62d10de6-f6a7-4f02-f0cc-3ed11b7c7a29"
      },
      "cell_type": "code",
      "source": [
        "ovr = [-1, -1, -1, -1, -1]\n",
        "acc = []\n",
        "\n",
        "for train_idx, test_idx in kf.split(X):\n",
        " # print(\"TRAIN: \", train_idx, \"TEST: \", test_idx)\n",
        "  X_train, X_test = X.iloc[train_idx], X.iloc[test_idx]\n",
        "  y_train, y_test = y.iloc[train_idx], y.iloc[test_idx]\n",
        "  \n",
        "  acc = models(X_train, X_test, y_train, y_test, ovr, acc, dtc, svc, gnb, rfc, knc)\n",
        "  "
      ],
      "execution_count": 33,
      "outputs": [
        {
          "output_type": "stream",
          "text": [
            "[]\n"
          ],
          "name": "stdout"
        }
      ]
    },
    {
      "metadata": {
        "id": "aF1GYIoyk8Nv",
        "colab_type": "code",
        "colab": {}
      },
      "cell_type": "code",
      "source": [
        ""
      ],
      "execution_count": 0,
      "outputs": []
    }
  ]
}